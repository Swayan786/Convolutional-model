{
  "nbformat_minor": 0, 
  "nbformat": 4, 
  "cells": [
    {
      "execution_count": null, 
      "cell_type": "code", 
      "source": [
        "%matplotlib inline"
      ], 
      "outputs": [], 
      "metadata": {
        "collapsed": false
      }
    }, 
    {
      "source": [
        "\nSynthetic seismograms using the convolutional model\n---------------------------------------------------\n\nThe simplest way to get a seismogram (in time x offset) is through the\nconvolutional model\n\n\\begin{align}trace(t) = wavelet(t) \\ast reflectivity(t)\\end{align}\n\nModule :mod:`fatiando.seismic.conv` defines functions for doing this\nconvolution, calculating the required reflectivity, and converting from depth a\nmodel into time.\n\n\n"
      ], 
      "cell_type": "markdown", 
      "metadata": {}
    }, 
    {
      "execution_count": null, 
      "cell_type": "code", 
      "source": [
        "import numpy as np\nimport matplotlib.pyplot as plt\nfrom fatiando.seismic import conv\nfrom fatiando.vis import mpl\n\n# Define the parameters of our depth model\nn_samples, n_traces = [600, 100]\nvelocity = 1500*np.ones((n_samples, n_traces))\n# We'll put two interfaces in depth\nvelocity[150:, :] = 2000\nvelocity[400:, :] = 3500\ndt = 2e-3\n\n# We need to convert the depth model we made above into time\nvel_l = conv.depth_2_time(velocity, velocity, dt=dt, dz=1)\n# and we'll assume the density is homogeneous\nrho_l = 2200*np.ones(np.shape(vel_l))\n# With that, we can calculate the reflectivity model in time\nrc = conv.reflectivity(vel_l, rho_l)\n# and finally perform our convolution\nsynt = conv.convolutional_model(rc, 30, conv.rickerwave, dt=dt)\n\n# We can use the utility function in fatiando.vis.mpl to plot the seismogram\nfig, axes = plt.subplots(1, 2, figsize=(8, 5))\n\nax = axes[0]\nax.set_title(\"Velocity model (in depth)\")\ntmp = ax.imshow(velocity, extent=[0, n_traces, n_samples, 0],\n                cmap=\"copper\", aspect='auto', origin='upper')\nfig.colorbar(tmp, ax=ax, pad=0, aspect=50)\nax.set_xlabel('Trace')\nax.set_ylabel('Depth (m)')\n\nax = axes[1]\nax.set_title(\"Synthetic seismogram\")\nmpl.seismic_wiggle(synt[:, ::20], dt, scale=1)\nmpl.seismic_image(synt, dt, cmap=\"RdBu_r\", aspect='auto')\nax.set_xlabel('Trace')\nax.set_ylabel('Time (s)')\nplt.tight_layout()\nplt.show()"
      ], 
      "outputs": [], 
      "metadata": {
        "collapsed": false
      }
    }
  ], 
  "metadata": {
    "kernelspec": {
      "display_name": "Python 2", 
      "name": "python2", 
      "language": "python"
    }, 
    "language_info": {
      "mimetype": "text/x-python", 
      "nbconvert_exporter": "python", 
      "name": "python", 
      "file_extension": ".py", 
      "version": "2.7.14", 
      "pygments_lexer": "ipython2", 
      "codemirror_mode": {
        "version": 2, 
        "name": "ipython"
      }
    }
  }
}